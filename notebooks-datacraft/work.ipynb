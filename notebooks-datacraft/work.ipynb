{
 "cells": [
  {
   "cell_type": "markdown",
   "id": "aca746aa-24ab-47bb-b39a-b60464d0e7b1",
   "metadata": {},
   "source": [
    "<div class=\"warning\" style='background-color:#15DB69; color:#000000; border-left: solid #004C23 4px; border-radius: 4px; padding:0.7em;'>\n",
    "<span>\n",
    "<p style='margin-top:1em; text-align:center'>\n",
    "<b>Projet Empow'her - exploration des données INSEP</b></p>\n",
    "<p style='margin-left:1em;'>\n",
    "Bonjour et bienvenu à cet atelier datacraft en collaboration avec l'INSEP.<br><br>\n",
    "    \n",
    "</p>\n",
    "<p style='margin-bottom:1em; margin-right:1em; text-align:right; font-family:Georgia'> <b>- L'équipe datacraft</b> <i>(pour l'atelier INSEP du 14 avril 2022)</i>\n",
    "</p></span>\n",
    "</div>"
   ]
  },
  {
   "cell_type": "code",
   "execution_count": null,
   "id": "2a14e6ad-bbc9-4105-b150-69583a791239",
   "metadata": {},
   "outputs": [],
   "source": []
  },
  {
   "cell_type": "code",
   "execution_count": null,
   "id": "6bc6d881-5677-4915-9e8a-8b665635c3cc",
   "metadata": {},
   "outputs": [],
   "source": []
  },
  {
   "cell_type": "code",
   "execution_count": null,
   "id": "aa2cf07d-bfaa-4a79-87fd-12dea82f0375",
   "metadata": {},
   "outputs": [],
   "source": []
  },
  {
   "cell_type": "code",
   "execution_count": null,
   "id": "7bab8c1b-d1b0-4f04-81bd-ad7efcf8c4c2",
   "metadata": {},
   "outputs": [],
   "source": []
  },
  {
   "cell_type": "code",
   "execution_count": null,
   "id": "c16e1f09-1874-4fc4-9c47-aef35b9d92af",
   "metadata": {},
   "outputs": [],
   "source": []
  }
 ],
 "metadata": {
  "kernelspec": {
   "display_name": "Python 3 (ipykernel)",
   "language": "python",
   "name": "python3"
  },
  "language_info": {
   "codemirror_mode": {
    "name": "ipython",
    "version": 3
   },
   "file_extension": ".py",
   "mimetype": "text/x-python",
   "name": "python",
   "nbconvert_exporter": "python",
   "pygments_lexer": "ipython3",
   "version": "3.9.11"
  }
 },
 "nbformat": 4,
 "nbformat_minor": 5
}
