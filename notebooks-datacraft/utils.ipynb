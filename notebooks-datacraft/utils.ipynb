{
 "cells": [
  {
   "cell_type": "code",
   "execution_count": null,
   "id": "15884ce0-9778-4d02-aa6c-151c620ade7a",
   "metadata": {},
   "outputs": [],
   "source": [
    "import pandas as pd\n",
    "import seaborn as sns\n",
    "import numpy as np\n",
    "import datetime as dt\n",
    "\n",
    "import matplotlib.pyplot as plt\n",
    "import matplotlib.image as mpimg\n",
    "import matplotlib.colors as clrs\n",
    "\n",
    "from sklearn import preprocessing #ajout du numéro \n",
    "\n",
    "import time\n",
    "import os\n",
    "\n",
    "%matplotlib inline"
   ]
  },
  {
   "cell_type": "markdown",
   "id": "e983080a-92b4-41a2-ab88-a748dc2f5f9c",
   "metadata": {},
   "source": [
    "# Permet de comparer la complétion de deux dataframes."
   ]
  },
  {
   "cell_type": "code",
   "execution_count": 1,
   "id": "99135ac7-6d9b-467c-9d46-d2ddcd5528ba",
   "metadata": {},
   "outputs": [],
   "source": [
    "def df_completion(df_1, df_2):\n",
    "    return (pd.concat([(df_1\n",
    "                        .notna()\n",
    "                        .sum()\n",
    "                        .mul(100/len(df_1))),\n",
    "                       (df_2\n",
    "                        .notna()\n",
    "                        .sum()\n",
    "                        .mul(100/len(df_2)))], axis=1)\n",
    "            .rename({0: \"ath1\", 1:\"ath2\"}, axis=1)\n",
    "            .style\n",
    "            # .bar(cmap='RdYlGn')\n",
    "            .background_gradient(cmap=\"RdYlGn\")\n",
    "            .format(\"{:.1f}%\")\n",
    "            .set_properties(**{'width':'100px', 'text-align':'center'})\n",
    "            .set_table_styles([ dict(selector='th', props=[('text-align','center')]) ]) )"
   ]
  },
  {
   "cell_type": "markdown",
   "id": "4b94042e-eb91-4f0c-98b7-e5e08119fb42",
   "metadata": {},
   "source": [
    "# Filtrer un dataframe"
   ]
  },
  {
   "cell_type": "code",
   "execution_count": 2,
   "id": "463181de-90f1-4ec8-b472-71b543f14c05",
   "metadata": {},
   "outputs": [],
   "source": [
    "def filter_df(df_tmp, qtty='time_only', filtre={'kind':'include', 'list':[\"2021-06-09\"]}):\n",
    "    val_list = filtre['list']\n",
    "    val_type = set([type(val) for val in val_list])\n",
    "\n",
    "    if len(val_type) == 1 :\n",
    "        if qtty == \"date\" and isinstance(val_list[0], str) :\n",
    "            val_list = [dt.datetime.strptime(x,\"%Y-%m-%d\").date() for x in val_list]\n",
    "#C>-----\n",
    "        if filtre['kind'] == 'include' :\n",
    "            if isinstance(val_list[0], (int, float, complex)) :\n",
    "                df_tmp = df_tmp[df_tmp[qtty].isin(val_list)]\n",
    "            elif isinstance(val_list[0], str) :\n",
    "                df_tmp = df_tmp[df_tmp[qtty].str.contains('|'.join(val_list))]\n",
    "            elif qtty == \"date\" and not isinstance(val_list[0], str):\n",
    "                df_tmp = df_tmp.reset_index(drop=True)\n",
    "                list_index = []\n",
    "                for date in val_list :\n",
    "                    list_index += list(df_tmp[df_tmp[qtty] == date].index)\n",
    "                df_tmp = df_tmp.iloc[list_index]\n",
    "\n",
    "        elif filtre['kind'] == 'exclude' :\n",
    "            if isinstance(val_list[0], (int, float, complex)) :\n",
    "                df_tmp = df_tmp[~df_tmp[qtty].isin(val_list)]\n",
    "            elif isinstance(val_list[0], str) :\n",
    "                df_tmp = df_tmp[~df_tmp[qtty].str.contains('|'.join(val_list))]\n",
    "            elif qtty == \"date\" and not isinstance(val_list[0], str):\n",
    "                list_index = []\n",
    "                for date in val_list :\n",
    "                    list_index += list(df_tmp[df_tmp[qtty] == date].index)\n",
    "                df_tmp = df_tmp.iloc[list_index]\n",
    "\n",
    "        return df_tmp\n",
    "#C>-----\n",
    "    elif len(val_type) == 0 :\n",
    "        print(\"You didn't give any value to filter, so you get the initial dataframe you sent in.\")\n",
    "        return df_tmp\n",
    "#C>-----\n",
    "    else :\n",
    "        print(\"Better strategy : you should give only one type of values to filter and use the function multiple times.\")\n",
    "        return df_tmp"
   ]
  },
  {
   "cell_type": "code",
   "execution_count": null,
   "id": "4211eef5-ba5e-4a68-a51b-6a57c4aefe9c",
   "metadata": {},
   "outputs": [],
   "source": []
  },
  {
   "cell_type": "markdown",
   "id": "0eb13997-a3d5-4023-bea2-0c891c218ec7",
   "metadata": {},
   "source": [
    "# Voir une journée d'entraînement: heures de début et fin, phase du cycle "
   ]
  },
  {
   "cell_type": "code",
   "execution_count": 3,
   "id": "acefc279-5c67-44f0-bbec-7ba0ca2e429c",
   "metadata": {},
   "outputs": [],
   "source": [
    "def focus_on_training(df_tmp, list_dates):\n",
    "    for date in list_dates :\n",
    "        df_loc = df_tmp[df_tmp['date'] == date]\n",
    "\n",
    "        heure_debut, heure_fin = df_loc[\"Timestamp\"].min(), df_loc[\"Timestamp\"].max()\n",
    "        duree = heure_fin - heure_debut\n",
    "        print(f\"Entraînement {df_loc['training_counter'].unique()}:{df_loc['type_ent'].unique()}, le {date} avec {len(df_loc)} points, de {heure_debut.time()} à {heure_fin.time()}, durée = {duree} - phase du cycle: {df_loc['phase'].unique().tolist()}\")"
   ]
  },
  {
   "cell_type": "markdown",
   "id": "cd5ae5a7-18c8-499d-baf2-4563752c24f7",
   "metadata": {},
   "source": [
    "---\n",
    "\n",
    "# Quelques plots"
   ]
  },
  {
   "cell_type": "code",
   "execution_count": null,
   "id": "9af80054-126c-4d03-aec2-8688a6007414",
   "metadata": {},
   "outputs": [],
   "source": [
    "def plot_df(df_tmp, qtty_x='tps', qtty_y='heart_rate', groupby='date', figtitle=\"\", tuple_figsize=(12.,12.)):\n",
    "    fig, ax = plt.subplots(figsize=tuple_figsize)\n",
    "\n",
    "    for group, d in df_tmp.groupby(df_tmp[groupby]):\n",
    "        g = d.plot(ax=ax, x=qtty_x, y=qtty_y, title=figtitle)   #, label=group\n",
    "        g.set_xlabel(qtty_x, fontsize=14)\n",
    "        g.set_ylabel(qtty_y, fontsize=14)\n",
    "\n",
    "    plt.legend('',frameon=False)\n",
    "    # plt.legend(*[*zip(*{l:h for h,l in zip(*ax.get_legend_handles_labels())}.items())][::-1])\n",
    "\n",
    "\n",
    "def plot_df_2criteria(df_tmp, qtty_x='tps', qtty_y='heart_rate', criteria1='date', criteria2='phase',\n",
    "                      criteria2_color={'Unknown':'yellow', 'Folliculaire':'blue', 'Lutéale':'green', 'Menstruations':'red'}, figtitle=\"\", tuple_figsize=(12.,12.)):\n",
    "\n",
    "    fig, ax = plt.subplots(figsize=tuple_figsize)\n",
    "\n",
    "    for group1, df1 in df_tmp.groupby(df_tmp[criteria1]):\n",
    "        for group2, df2 in df1.groupby(df1[criteria2]):\n",
    "            g = df2.plot(ax=ax, x=qtty_x, y=qtty_y, label=group2, color=criteria2_color[group2], title=figtitle)\n",
    "            g.set_xlabel(qtty_x, fontsize=14)\n",
    "            g.set_ylabel(qtty_y, fontsize=14)\n",
    "\n",
    "    # plt.legend(*[*zip(*{l:h for h,l in zip(*ax.get_legend_handles_labels())}.items())][::-1])\n",
    "\n",
    "\n",
    "\n",
    "\n",
    "def plot_df_1day_time_series(df_loc, x_qtty=\"Timestamp\", qtties_plot=[\"heart_rate\"], tuple_figsize=(22.,12.), shade_area=False):\n",
    "    list_of_colors = ['#33FFFF', '#00FF00', '#CCCC00', '#FF9966', '#CC3366', '#99CCCC', '#CC66CC', '#66FF99', '#FFFF66', '#6600FF', '#006699', '#CC9966', '#3366FF', '#FF3366', '#000000']\n",
    "\n",
    "    fig, ax = plt.subplots(nrows=len(qtties_plot), figsize=tuple_figsize, sharex=True)\n",
    "\n",
    "    for ctr, (y_qtty, color) in enumerate(zip(qtties_plot, list_of_colors)):\n",
    "        df_loc.plot(x=x_qtty, y=y_qtty, color=color, ax=ax[ctr])\n",
    "        ax[ctr].set_ylabel(y_qtty)\n",
    "        if shade_area :\n",
    "            df_loc.plot.area(x=x_qtty, y=y_qtty, color=color, alpha=0.2, ax=ax[ctr])\n",
    "        plt.subplots_adjust(hspace = .001)"
   ]
  },
  {
   "cell_type": "code",
   "execution_count": null,
   "id": "76a9cfe2-ada6-412b-9e3b-37a76618085d",
   "metadata": {},
   "outputs": [],
   "source": []
  },
  {
   "cell_type": "code",
   "execution_count": null,
   "id": "c8994170-8663-4fb0-9c91-72b8f688eec3",
   "metadata": {},
   "outputs": [],
   "source": []
  },
  {
   "cell_type": "markdown",
   "id": "7525a017-69d5-4be9-9e74-756b95b11ab6",
   "metadata": {},
   "source": [
    "# Extraire un dataframe formaté pour les séries temporelles"
   ]
  },
  {
   "cell_type": "code",
   "execution_count": null,
   "id": "9baa2ecd-e1d0-4d07-b03b-9f0b3f19e0d0",
   "metadata": {},
   "outputs": [],
   "source": [
    "def make_df_timeseries(df_tmp, qtties=['altitude']):\n",
    "    t_start = time.time()\n",
    "\n",
    "    listou = []\n",
    "    for date, d1 in df_tmp.groupby(\"date\"):\n",
    "        for train, d2 in d1.groupby(\"training_index\"):\n",
    "            if len(d2[\"training_counter\"].unique()) > 1 :\n",
    "                print(\"Julian fucked up...\")\n",
    "            else :\n",
    "                numero_entrainement = d2[\"training_counter\"].unique()[0]\n",
    "\n",
    "            if len(d2[\"type_ent\"].unique()) > 1 :\n",
    "                print(\"Julian fucked up really bad...\")\n",
    "            else :\n",
    "                type_entrainement = d2[\"type_ent\"].unique()[0]\n",
    "\n",
    "            for qtty in qtties :\n",
    "                tmp_dict = {\"numero_entrainement\":numero_entrainement, \"type_entrainement\":type_entrainement, \"grandeur\":qtty}\n",
    "\n",
    "                ts_values = d2[qtty].tolist()\n",
    "                ts_tps = d2['tps'].tolist()\n",
    "                loc_dict = {k:v for k, v in zip(ts_tps, ts_values)}\n",
    "                \n",
    "                tmp_dict['length'] = len(loc_dict)\n",
    "\n",
    "                tmp_dict.update(loc_dict)\n",
    "                listou.append(tmp_dict)\n",
    "\n",
    "    df_ts = pd.DataFrame(listou)\n",
    "    print(f\"Le dataframe contient {df_ts.shape[0]} séries temporelles différentes, avec {df_ts.shape[1]} points pour la plus longue.\")\n",
    "    print(f\"Time taken to create the time series: {time.time()-t_start}\")    \n",
    "    return df_ts"
   ]
  }
 ],
 "metadata": {
  "kernelspec": {
   "display_name": "Python 3 (ipykernel)",
   "language": "python",
   "name": "python3"
  },
  "language_info": {
   "codemirror_mode": {
    "name": "ipython",
    "version": 3
   },
   "file_extension": ".py",
   "mimetype": "text/x-python",
   "name": "python",
   "nbconvert_exporter": "python",
   "pygments_lexer": "ipython3",
   "version": "3.9.11"
  }
 },
 "nbformat": 4,
 "nbformat_minor": 5
}
